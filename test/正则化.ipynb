{
 "cells": [
  {
   "cell_type": "code",
   "execution_count": 4,
   "metadata": {},
   "outputs": [],
   "source": [
    "import numpy as np\n",
    "from keras.datasets import mnist\n",
    "from keras.utils import np_utils\n",
    "from keras.models import Sequential\n",
    "from keras.layers import Dense\n",
    "from keras.optimizers import SGD\n",
    "from keras.regularizers import l2"
   ]
  },
  {
   "cell_type": "code",
   "execution_count": 8,
   "metadata": {},
   "outputs": [
    {
     "name": "stdout",
     "output_type": "stream",
     "text": [
      "x_shpae: (60000, 28, 28)\n",
      "y_shapr: (60000,)\n",
      "Epoch 1/10\n",
      "60000/60000 [==============================] - 7s 110us/step - loss: 0.6465 - acc: 0.8974 0s - loss: 0.6683 - ac\n",
      "Epoch 2/10\n",
      "60000/60000 [==============================] - 6s 102us/step - loss: 0.2995 - acc: 0.9409\n",
      "Epoch 3/10\n",
      "60000/60000 [==============================] - 6s 101us/step - loss: 0.2781 - acc: 0.9464\n",
      "Epoch 4/10\n",
      "60000/60000 [==============================] - 6s 101us/step - loss: 0.2704 - acc: 0.9487 0s - loss: 0.2691 - acc: 0.9\n",
      "Epoch 5/10\n",
      "60000/60000 [==============================] - 6s 102us/step - loss: 0.2620 - acc: 0.9508 1s -\n",
      "Epoch 6/10\n",
      "60000/60000 [==============================] - 6s 101us/step - loss: 0.2594 - acc: 0.9529\n",
      "Epoch 7/10\n",
      "60000/60000 [==============================] - 7s 112us/step - loss: 0.2587 - acc: 0.9522\n",
      "Epoch 8/10\n",
      "60000/60000 [==============================] - 6s 100us/step - loss: 0.2616 - acc: 0.9530 1s - loss: 0.2\n",
      "Epoch 9/10\n",
      "60000/60000 [==============================] - 7s 115us/step - loss: 0.2601 - acc: 0.9542\n",
      "Epoch 10/10\n",
      "60000/60000 [==============================] - 5s 84us/step - loss: 0.2562 - acc: 0.9547\n",
      "10000/10000 [==============================] - 0s 33us/step\n",
      "\n",
      " terst loss  0.2481556196808815\n",
      "accuracy: 0.9586\n",
      "60000/60000 [==============================] - 1s 23us/step\n",
      "\n",
      " train loss  0.22904384821256002\n",
      "accuracy: 0.9638\n"
     ]
    }
   ],
   "source": [
    "(x_train,y_train),(x_test,y_test) = mnist.load_data()\n",
    "print('x_shpae:',x_train.shape)\n",
    "print('y_shapr:',y_train.shape)\n",
    "x_train = x_train.reshape(x_train.shape[0],-1)/255.0\n",
    "x_test = x_test.reshape(x_test.shape[0],-1)/255.0\n",
    "y_train = np_utils.to_categorical(y_train,num_classes=10)\n",
    "y_test = np_utils.to_categorical(y_test,num_classes=10)\n",
    "\n",
    "# 创建模型\n",
    "model = Sequential([\n",
    "    Dense(units=200,input_dim=784,bias_initializer='one',activation='tanh',kernel_regularizer =l2(0.003)),\n",
    "    Dense(units=100,bias_initializer='one',activation='tanh'),\n",
    "    Dense(units=10,bias_initializer='one',activation='softmax')\n",
    "])\n",
    "sgd = SGD(lr=0.2)\n",
    "# 对于分类问题，交叉熵也许会达到一个更好的效果，他们的收敛速度更快\n",
    "model.compile(\n",
    "    optimizer=sgd,\n",
    "    loss='categorical_crossentropy',\n",
    "    metrics=['accuracy']\n",
    ")\n",
    "# epochs 10 个周期\n",
    "# 训练模型\n",
    "model.fit(x_train,y_train,batch_size=32,epochs=10)\n",
    "# 评估模型\n",
    "loss,accuracy = model.evaluate(x_test,y_test)\n",
    "print('\\n terst loss ',loss)\n",
    "print('accuracy:',accuracy)\n",
    "\n",
    "loss,accuracy = model.evaluate(x_train,y_train)\n",
    "print('\\n train loss ',loss)\n",
    "print('accuracy:',accuracy)"
   ]
  },
  {
   "cell_type": "code",
   "execution_count": null,
   "metadata": {},
   "outputs": [],
   "source": []
  }
 ],
 "metadata": {
  "kernelspec": {
   "display_name": "Python 3",
   "language": "python",
   "name": "python3"
  },
  "language_info": {
   "codemirror_mode": {
    "name": "ipython",
    "version": 3
   },
   "file_extension": ".py",
   "mimetype": "text/x-python",
   "name": "python",
   "nbconvert_exporter": "python",
   "pygments_lexer": "ipython3",
   "version": "3.6.5"
  }
 },
 "nbformat": 4,
 "nbformat_minor": 2
}
